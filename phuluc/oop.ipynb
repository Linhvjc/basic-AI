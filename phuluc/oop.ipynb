{
 "cells": [
  {
   "attachments": {},
   "cell_type": "markdown",
   "metadata": {},
   "source": [
    "### Khởi tạo class"
   ]
  },
  {
   "cell_type": "code",
   "execution_count": 2,
   "metadata": {},
   "outputs": [
    {
     "data": {
      "text/plain": [
       "True"
      ]
     },
     "execution_count": 2,
     "metadata": {},
     "output_type": "execute_result"
    }
   ],
   "source": [
    "class User:\n",
    "    pass\n",
    "\n",
    "# khoi tao mot object user va kiem tra type cua no\n",
    "user = User()\n",
    "type(user) == User"
   ]
  },
  {
   "attachments": {},
   "cell_type": "markdown",
   "metadata": {},
   "source": [
    "---\n",
    "### Constructor trong python"
   ]
  },
  {
   "cell_type": "code",
   "execution_count": 3,
   "metadata": {},
   "outputs": [],
   "source": [
    "class User:\n",
    "    def __init__ (self, name, age, gender, occupation):\n",
    "        self.name = name\n",
    "        self.age = age\n",
    "        self.gender = gender\n",
    "        self.occupation = occupation\n",
    "        "
   ]
  },
  {
   "cell_type": "code",
   "execution_count": 4,
   "metadata": {},
   "outputs": [
    {
     "name": "stdout",
     "output_type": "stream",
     "text": [
      "Pham Dinh Khanh 27 male AI Engineer\n"
     ]
    }
   ],
   "source": [
    "user = User(name='Pham Dinh Khanh', age=27, gender='male', occupation='AI Engineer')\n",
    "print(user.name, user.age, user.gender, user.occupation)"
   ]
  },
  {
   "attachments": {},
   "cell_type": "markdown",
   "metadata": {},
   "source": [
    "Như vậy các thuộc tính của class User có thể thay đổi theo giá trị của đối số được truyền vào hàm tạo. Ngoài ra chúng ta còn có những thuộc tính không thay đổi của class. Những thuộc tính bất biến này có thể được khởi tạo bên ngoài hàm tạo."
   ]
  },
  {
   "cell_type": "code",
   "execution_count": 9,
   "metadata": {},
   "outputs": [
    {
     "name": "stdout",
     "output_type": "stream",
     "text": [
      "VietNam Pham Dinh Khanh 27 male AI Engineer\n"
     ]
    }
   ],
   "source": [
    "class User:\n",
    "  nation = 'VietNam'\n",
    "  def __init__(self, name, age, gender, occupation):\n",
    "    self.name = name\n",
    "    self.age = age\n",
    "    self.gender = gender\n",
    "    self.occupation = occupation\n",
    "\n",
    "user = User(name='Pham Dinh Khanh', age=27, gender='male', occupation='AI Engineer')\n",
    "print(user.nation, user.name, user.age, user.gender, user.occupation)"
   ]
  },
  {
   "attachments": {},
   "cell_type": "markdown",
   "metadata": {},
   "source": [
    "Bài tập: Hãy khởi tạo một class là User với các thuộc tính trong hàm tạo là user, password, totalAmount, totalClick và thuộc tính bất biến là customerType=B2C.\n",
    "\n"
   ]
  },
  {
   "cell_type": "code",
   "execution_count": 8,
   "metadata": {},
   "outputs": [],
   "source": [
    "class User2:\n",
    "    customerType = 'B2C'\n",
    "    def __ini__(self, user, password, totalAmount, totalClick):\n",
    "        self.user = user\n",
    "        self.password = password\n",
    "        self.totalAmount = totalAmount\n",
    "        self.totalClick = totalClick"
   ]
  },
  {
   "attachments": {},
   "cell_type": "markdown",
   "metadata": {},
   "source": [
    "---\n",
    "### Khởi tạo một object"
   ]
  },
  {
   "cell_type": "code",
   "execution_count": 10,
   "metadata": {},
   "outputs": [],
   "source": [
    "user1 = User(name='Pham Dinh Khanh', age=27, gender='male', occupation='AI Engineer')\n",
    "user2 = User(name='Pham Dinh Khanh', age=27, gender='male', occupation='AI Engineer')"
   ]
  },
  {
   "cell_type": "code",
   "execution_count": 11,
   "metadata": {},
   "outputs": [
    {
     "data": {
      "text/plain": [
       "False"
      ]
     },
     "execution_count": 11,
     "metadata": {},
     "output_type": "execute_result"
    }
   ],
   "source": [
    "user1 == user2"
   ]
  },
  {
   "attachments": {},
   "cell_type": "markdown",
   "metadata": {},
   "source": [
    "---\n",
    "### Phương thức (method)"
   ]
  },
  {
   "cell_type": "code",
   "execution_count": 12,
   "metadata": {},
   "outputs": [
    {
     "name": "stdout",
     "output_type": "stream",
     "text": [
      "VietNam Pham Dinh Khanh 27 male AI Engineer\n"
     ]
    }
   ],
   "source": [
    "class User:\n",
    "  nation = 'VietNam'\n",
    "  def __init__(self, name, age, gender, occupation):\n",
    "    self.name = name\n",
    "    self.age = age\n",
    "    self.gender = gender\n",
    "    self.occupation = occupation\n",
    "\n",
    "  # Các hàm buy, search là những hàm phương thức.\n",
    "  def buy(self, item):\n",
    "    print('you bought {}'.format(item))\n",
    "  \n",
    "  def search(self, term):\n",
    "    print('you search: {}'.format(term))\n",
    "\n",
    "user = User(name='Pham Dinh Khanh', age=27, gender='male', occupation='AI Engineer')\n",
    "print(user.nation, user.name, user.age, user.gender, user.occupation)    "
   ]
  },
  {
   "cell_type": "code",
   "execution_count": 13,
   "metadata": {},
   "outputs": [
    {
     "name": "stdout",
     "output_type": "stream",
     "text": [
      "you bought a Book\n",
      "you search: AI Book\n"
     ]
    }
   ],
   "source": [
    "user.buy('a Book')\n",
    "user.search('AI Book')"
   ]
  },
  {
   "cell_type": "code",
   "execution_count": 14,
   "metadata": {},
   "outputs": [
    {
     "name": "stdout",
     "output_type": "stream",
     "text": [
      "VietNam Pham Dinh Khanh 27 male AI Engineer\n",
      "you bought a Book\n",
      "you search: AI Book\n"
     ]
    }
   ],
   "source": [
    "class SpecialUser(User):\n",
    "  pass\n",
    "user = SpecialUser(name='Pham Dinh Khanh', age=27, gender='male', occupation='AI Engineer')\n",
    "print(user.nation, user.name, user.age, user.gender, user.occupation)\n",
    "user.buy('a Book')\n",
    "user.search('AI Book')"
   ]
  },
  {
   "attachments": {},
   "cell_type": "markdown",
   "metadata": {},
   "source": [
    "Để kiểm tra xem một object có phải được kế thừa từ một class khác không thì chúng ta dùng câu lệnh isinstance(object, Class)."
   ]
  },
  {
   "cell_type": "code",
   "execution_count": 15,
   "metadata": {},
   "outputs": [
    {
     "name": "stdout",
     "output_type": "stream",
     "text": [
      "<class '__main__.SpecialUser'>\n"
     ]
    },
    {
     "data": {
      "text/plain": [
       "True"
      ]
     },
     "execution_count": 15,
     "metadata": {},
     "output_type": "execute_result"
    }
   ],
   "source": [
    "print(type(user))\n",
    "isinstance(user, User)"
   ]
  },
  {
   "attachments": {},
   "cell_type": "markdown",
   "metadata": {},
   "source": [
    "---\n",
    "Ví dụ về Extend"
   ]
  },
  {
   "cell_type": "code",
   "execution_count": 16,
   "metadata": {},
   "outputs": [
    {
     "name": "stdout",
     "output_type": "stream",
     "text": [
      "You get a voucher valuing 100$\n"
     ]
    }
   ],
   "source": [
    "class SpecialUser(User):\n",
    "  def getVoucher(self, value):\n",
    "    print(\"You get a voucher valuing {}\".format(value))\n",
    "\n",
    "user = SpecialUser(name='Pham Dinh Khanh', age=27, gender='male', occupation='AI Engineer')\n",
    "user.getVoucher('100$')"
   ]
  },
  {
   "attachments": {},
   "cell_type": "markdown",
   "metadata": {},
   "source": [
    "---\n",
    "Ví dụ về Override"
   ]
  },
  {
   "cell_type": "code",
   "execution_count": 17,
   "metadata": {},
   "outputs": [
    {
     "name": "stdout",
     "output_type": "stream",
     "text": [
      "you bought a book with the amount of 100$\n"
     ]
    }
   ],
   "source": [
    "class SpecialUser(User):\n",
    "  def buy(self, item, amount):\n",
    "    print('you bought {} with the amount of {}'.format(item, amount))\n",
    "\n",
    "user = SpecialUser(name='Pham Dinh Khanh', age=27, gender='male', occupation='AI Engineer')\n",
    "user.buy('a book', '100$')"
   ]
  },
  {
   "cell_type": "code",
   "execution_count": null,
   "metadata": {},
   "outputs": [],
   "source": []
  }
 ],
 "metadata": {
  "kernelspec": {
   "display_name": "Python 3",
   "language": "python",
   "name": "python3"
  },
  "language_info": {
   "codemirror_mode": {
    "name": "ipython",
    "version": 3
   },
   "file_extension": ".py",
   "mimetype": "text/x-python",
   "name": "python",
   "nbconvert_exporter": "python",
   "pygments_lexer": "ipython3",
   "version": "3.8.0"
  },
  "orig_nbformat": 4,
  "vscode": {
   "interpreter": {
    "hash": "bd28539c79b8595bff478de9b4c5fdaa085a17ce875b7b632e25c2c6e60d29f4"
   }
  }
 },
 "nbformat": 4,
 "nbformat_minor": 2
}
